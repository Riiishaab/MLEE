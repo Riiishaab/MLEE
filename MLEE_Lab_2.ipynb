{
  "cells": [
    {
      "cell_type": "code",
      "execution_count": null,
      "metadata": {
        "id": "OU8OAklymzrW"
      },
      "outputs": [],
      "source": [
        "import numpy as np\n",
        "import matplotlib.pyplot as plt\n",
        "import pandas as pd"
      ]
    },
    {
      "cell_type": "code",
      "execution_count": null,
      "metadata": {
        "colab": {
          "base_uri": "https://localhost:8080/"
        },
        "id": "fmjkMskEnQr_",
        "outputId": "55b06a17-cbd7-407f-fca5-f0b03645e9b9"
      },
      "outputs": [
        {
          "name": "stdout",
          "output_type": "stream",
          "text": [
            "Drive already mounted at /content/drive; to attempt to forcibly remount, call drive.mount(\"/content/drive\", force_remount=True).\n"
          ]
        }
      ],
      "source": [
        "from google.colab import drive\n",
        "\n",
        "drive.mount('/content/drive')\n",
        "\n",
        "data_path = '/content/drive/MyDrive/data.csv'\n",
        "df = pd.read_csv(data_path)"
      ]
    },
    {
      "cell_type": "code",
      "execution_count": null,
      "metadata": {
        "colab": {
          "base_uri": "https://localhost:8080/",
          "height": 206
        },
        "id": "xl_O7lj7ntD2",
        "outputId": "480a984e-08f5-4512-bcb3-2d003fcaffc6"
      },
      "outputs": [
        {
          "data": {
            "application/vnd.google.colaboratory.intrinsic+json": {
              "summary": "{\n  \"name\": \"df\",\n  \"rows\": 81,\n  \"fields\": [\n    {\n      \"column\": \"13.6\",\n      \"properties\": {\n        \"dtype\": \"number\",\n        \"std\": 2.6741151761486726,\n        \"min\": 0.2,\n        \"max\": 11.5,\n        \"num_unique_values\": 53,\n        \"samples\": [\n          5.0,\n          6.4,\n          1.4\n        ],\n        \"semantic_type\": \"\",\n        \"description\": \"\"\n      }\n    },\n    {\n      \"column\": \"19.599\",\n      \"properties\": {\n        \"dtype\": \"number\",\n        \"std\": 7.255322273070377,\n        \"min\": 2.914,\n        \"max\": 40.513,\n        \"num_unique_values\": 80,\n        \"samples\": [\n          18.632,\n          12.531,\n          7.844\n        ],\n        \"semantic_type\": \"\",\n        \"description\": \"\"\n      }\n    },\n    {\n      \"column\": \"10.435\",\n      \"properties\": {\n        \"dtype\": \"number\",\n        \"std\": 4.866349878515052,\n        \"min\": 1.415,\n        \"max\": 29.674,\n        \"num_unique_values\": 81,\n        \"samples\": [\n          10.059,\n          6.301,\n          3.769\n        ],\n        \"semantic_type\": \"\",\n        \"description\": \"\"\n      }\n    },\n    {\n      \"column\": \"2.068\",\n      \"properties\": {\n        \"dtype\": \"number\",\n        \"std\": 4.698150580281565,\n        \"min\": 1.821,\n        \"max\": 26.29,\n        \"num_unique_values\": 81,\n        \"samples\": [\n          6.111,\n          3.15,\n          5.253\n        ],\n        \"semantic_type\": \"\",\n        \"description\": \"\"\n      }\n    },\n    {\n      \"column\": \"7.936\",\n      \"properties\": {\n        \"dtype\": \"number\",\n        \"std\": 8.196702536653547,\n        \"min\": 4.17,\n        \"max\": 57.213,\n        \"num_unique_values\": 81,\n        \"samples\": [\n          7.607,\n          10.003,\n          9.901\n        ],\n        \"semantic_type\": \"\",\n        \"description\": \"\"\n      }\n    },\n    {\n      \"column\": \"1.943\",\n      \"properties\": {\n        \"dtype\": \"number\",\n        \"std\": 0.45205527255463407,\n        \"min\": 1.523,\n        \"max\": 3.604,\n        \"num_unique_values\": 79,\n        \"samples\": [\n          2.384,\n          2.477,\n          2.424\n        ],\n        \"semantic_type\": \"\",\n        \"description\": \"\"\n      }\n    },\n    {\n      \"column\": \"2.938\",\n      \"properties\": {\n        \"dtype\": \"number\",\n        \"std\": 1.6869562613706908,\n        \"min\": 2.317,\n        \"max\": 10.251,\n        \"num_unique_values\": 81,\n        \"samples\": [\n          4.509,\n          2.317,\n          7.398\n        ],\n        \"semantic_type\": \"\",\n        \"description\": \"\"\n      }\n    },\n    {\n      \"column\": \"86.582\",\n      \"properties\": {\n        \"dtype\": \"number\",\n        \"std\": 76.69844757209526,\n        \"min\": 18.317,\n        \"max\": 460.524,\n        \"num_unique_values\": 81,\n        \"samples\": [\n          81.905,\n          40.537,\n          90.178\n        ],\n        \"semantic_type\": \"\",\n        \"description\": \"\"\n      }\n    },\n    {\n      \"column\": \"8.482518927\",\n      \"properties\": {\n        \"dtype\": \"number\",\n        \"std\": 1.0399776101760383,\n        \"min\": 2.360854001,\n        \"max\": 7.87245515,\n        \"num_unique_values\": 80,\n        \"samples\": [\n          6.239885906,\n          6.521798637,\n          5.29179615\n        ],\n        \"semantic_type\": \"\",\n        \"description\": \"\"\n      }\n    }\n  ]\n}",
              "type": "dataframe",
              "variable_name": "df"
            },
            "text/html": [
              "\n",
              "  <div id=\"df-2446cfc9-07bc-4ff6-bacc-ad46cfccfd27\" class=\"colab-df-container\">\n",
              "    <div>\n",
              "<style scoped>\n",
              "    .dataframe tbody tr th:only-of-type {\n",
              "        vertical-align: middle;\n",
              "    }\n",
              "\n",
              "    .dataframe tbody tr th {\n",
              "        vertical-align: top;\n",
              "    }\n",
              "\n",
              "    .dataframe thead th {\n",
              "        text-align: right;\n",
              "    }\n",
              "</style>\n",
              "<table border=\"1\" class=\"dataframe\">\n",
              "  <thead>\n",
              "    <tr style=\"text-align: right;\">\n",
              "      <th></th>\n",
              "      <th>13.6</th>\n",
              "      <th>19.599</th>\n",
              "      <th>10.435</th>\n",
              "      <th>2.068</th>\n",
              "      <th>7.936</th>\n",
              "      <th>1.943</th>\n",
              "      <th>2.938</th>\n",
              "      <th>86.582</th>\n",
              "      <th>8.482518927</th>\n",
              "    </tr>\n",
              "  </thead>\n",
              "  <tbody>\n",
              "    <tr>\n",
              "      <th>0</th>\n",
              "      <td>9.4</td>\n",
              "      <td>12.531</td>\n",
              "      <td>6.301</td>\n",
              "      <td>3.150</td>\n",
              "      <td>10.003</td>\n",
              "      <td>2.477</td>\n",
              "      <td>2.317</td>\n",
              "      <td>40.537</td>\n",
              "      <td>6.521799</td>\n",
              "    </tr>\n",
              "    <tr>\n",
              "      <th>1</th>\n",
              "      <td>7.6</td>\n",
              "      <td>11.188</td>\n",
              "      <td>4.934</td>\n",
              "      <td>3.664</td>\n",
              "      <td>11.287</td>\n",
              "      <td>2.653</td>\n",
              "      <td>3.862</td>\n",
              "      <td>32.869</td>\n",
              "      <td>6.171909</td>\n",
              "    </tr>\n",
              "    <tr>\n",
              "      <th>2</th>\n",
              "      <td>6.1</td>\n",
              "      <td>9.701</td>\n",
              "      <td>4.113</td>\n",
              "      <td>4.465</td>\n",
              "      <td>12.667</td>\n",
              "      <td>2.897</td>\n",
              "      <td>4.569</td>\n",
              "      <td>25.476</td>\n",
              "      <td>5.944111</td>\n",
              "    </tr>\n",
              "    <tr>\n",
              "      <th>3</th>\n",
              "      <td>11.5</td>\n",
              "      <td>12.275</td>\n",
              "      <td>7.416</td>\n",
              "      <td>1.821</td>\n",
              "      <td>4.170</td>\n",
              "      <td>2.227</td>\n",
              "      <td>3.156</td>\n",
              "      <td>61.943</td>\n",
              "      <td>6.968568</td>\n",
              "    </tr>\n",
              "    <tr>\n",
              "      <th>4</th>\n",
              "      <td>8.5</td>\n",
              "      <td>7.281</td>\n",
              "      <td>4.460</td>\n",
              "      <td>2.604</td>\n",
              "      <td>5.186</td>\n",
              "      <td>2.721</td>\n",
              "      <td>2.408</td>\n",
              "      <td>31.965</td>\n",
              "      <td>5.666081</td>\n",
              "    </tr>\n",
              "  </tbody>\n",
              "</table>\n",
              "</div>\n",
              "    <div class=\"colab-df-buttons\">\n",
              "\n",
              "  <div class=\"colab-df-container\">\n",
              "    <button class=\"colab-df-convert\" onclick=\"convertToInteractive('df-2446cfc9-07bc-4ff6-bacc-ad46cfccfd27')\"\n",
              "            title=\"Convert this dataframe to an interactive table.\"\n",
              "            style=\"display:none;\">\n",
              "\n",
              "  <svg xmlns=\"http://www.w3.org/2000/svg\" height=\"24px\" viewBox=\"0 -960 960 960\">\n",
              "    <path d=\"M120-120v-720h720v720H120Zm60-500h600v-160H180v160Zm220 220h160v-160H400v160Zm0 220h160v-160H400v160ZM180-400h160v-160H180v160Zm440 0h160v-160H620v160ZM180-180h160v-160H180v160Zm440 0h160v-160H620v160Z\"/>\n",
              "  </svg>\n",
              "    </button>\n",
              "\n",
              "  <style>\n",
              "    .colab-df-container {\n",
              "      display:flex;\n",
              "      gap: 12px;\n",
              "    }\n",
              "\n",
              "    .colab-df-convert {\n",
              "      background-color: #E8F0FE;\n",
              "      border: none;\n",
              "      border-radius: 50%;\n",
              "      cursor: pointer;\n",
              "      display: none;\n",
              "      fill: #1967D2;\n",
              "      height: 32px;\n",
              "      padding: 0 0 0 0;\n",
              "      width: 32px;\n",
              "    }\n",
              "\n",
              "    .colab-df-convert:hover {\n",
              "      background-color: #E2EBFA;\n",
              "      box-shadow: 0px 1px 2px rgba(60, 64, 67, 0.3), 0px 1px 3px 1px rgba(60, 64, 67, 0.15);\n",
              "      fill: #174EA6;\n",
              "    }\n",
              "\n",
              "    .colab-df-buttons div {\n",
              "      margin-bottom: 4px;\n",
              "    }\n",
              "\n",
              "    [theme=dark] .colab-df-convert {\n",
              "      background-color: #3B4455;\n",
              "      fill: #D2E3FC;\n",
              "    }\n",
              "\n",
              "    [theme=dark] .colab-df-convert:hover {\n",
              "      background-color: #434B5C;\n",
              "      box-shadow: 0px 1px 3px 1px rgba(0, 0, 0, 0.15);\n",
              "      filter: drop-shadow(0px 1px 2px rgba(0, 0, 0, 0.3));\n",
              "      fill: #FFFFFF;\n",
              "    }\n",
              "  </style>\n",
              "\n",
              "    <script>\n",
              "      const buttonEl =\n",
              "        document.querySelector('#df-2446cfc9-07bc-4ff6-bacc-ad46cfccfd27 button.colab-df-convert');\n",
              "      buttonEl.style.display =\n",
              "        google.colab.kernel.accessAllowed ? 'block' : 'none';\n",
              "\n",
              "      async function convertToInteractive(key) {\n",
              "        const element = document.querySelector('#df-2446cfc9-07bc-4ff6-bacc-ad46cfccfd27');\n",
              "        const dataTable =\n",
              "          await google.colab.kernel.invokeFunction('convertToInteractive',\n",
              "                                                    [key], {});\n",
              "        if (!dataTable) return;\n",
              "\n",
              "        const docLinkHtml = 'Like what you see? Visit the ' +\n",
              "          '<a target=\"_blank\" href=https://colab.research.google.com/notebooks/data_table.ipynb>data table notebook</a>'\n",
              "          + ' to learn more about interactive tables.';\n",
              "        element.innerHTML = '';\n",
              "        dataTable['output_type'] = 'display_data';\n",
              "        await google.colab.output.renderOutput(dataTable, element);\n",
              "        const docLink = document.createElement('div');\n",
              "        docLink.innerHTML = docLinkHtml;\n",
              "        element.appendChild(docLink);\n",
              "      }\n",
              "    </script>\n",
              "  </div>\n",
              "\n",
              "\n",
              "<div id=\"df-d08fcebd-cefb-4378-9143-f0297d6f6538\">\n",
              "  <button class=\"colab-df-quickchart\" onclick=\"quickchart('df-d08fcebd-cefb-4378-9143-f0297d6f6538')\"\n",
              "            title=\"Suggest charts\"\n",
              "            style=\"display:none;\">\n",
              "\n",
              "<svg xmlns=\"http://www.w3.org/2000/svg\" height=\"24px\"viewBox=\"0 0 24 24\"\n",
              "     width=\"24px\">\n",
              "    <g>\n",
              "        <path d=\"M19 3H5c-1.1 0-2 .9-2 2v14c0 1.1.9 2 2 2h14c1.1 0 2-.9 2-2V5c0-1.1-.9-2-2-2zM9 17H7v-7h2v7zm4 0h-2V7h2v10zm4 0h-2v-4h2v4z\"/>\n",
              "    </g>\n",
              "</svg>\n",
              "  </button>\n",
              "\n",
              "<style>\n",
              "  .colab-df-quickchart {\n",
              "      --bg-color: #E8F0FE;\n",
              "      --fill-color: #1967D2;\n",
              "      --hover-bg-color: #E2EBFA;\n",
              "      --hover-fill-color: #174EA6;\n",
              "      --disabled-fill-color: #AAA;\n",
              "      --disabled-bg-color: #DDD;\n",
              "  }\n",
              "\n",
              "  [theme=dark] .colab-df-quickchart {\n",
              "      --bg-color: #3B4455;\n",
              "      --fill-color: #D2E3FC;\n",
              "      --hover-bg-color: #434B5C;\n",
              "      --hover-fill-color: #FFFFFF;\n",
              "      --disabled-bg-color: #3B4455;\n",
              "      --disabled-fill-color: #666;\n",
              "  }\n",
              "\n",
              "  .colab-df-quickchart {\n",
              "    background-color: var(--bg-color);\n",
              "    border: none;\n",
              "    border-radius: 50%;\n",
              "    cursor: pointer;\n",
              "    display: none;\n",
              "    fill: var(--fill-color);\n",
              "    height: 32px;\n",
              "    padding: 0;\n",
              "    width: 32px;\n",
              "  }\n",
              "\n",
              "  .colab-df-quickchart:hover {\n",
              "    background-color: var(--hover-bg-color);\n",
              "    box-shadow: 0 1px 2px rgba(60, 64, 67, 0.3), 0 1px 3px 1px rgba(60, 64, 67, 0.15);\n",
              "    fill: var(--button-hover-fill-color);\n",
              "  }\n",
              "\n",
              "  .colab-df-quickchart-complete:disabled,\n",
              "  .colab-df-quickchart-complete:disabled:hover {\n",
              "    background-color: var(--disabled-bg-color);\n",
              "    fill: var(--disabled-fill-color);\n",
              "    box-shadow: none;\n",
              "  }\n",
              "\n",
              "  .colab-df-spinner {\n",
              "    border: 2px solid var(--fill-color);\n",
              "    border-color: transparent;\n",
              "    border-bottom-color: var(--fill-color);\n",
              "    animation:\n",
              "      spin 1s steps(1) infinite;\n",
              "  }\n",
              "\n",
              "  @keyframes spin {\n",
              "    0% {\n",
              "      border-color: transparent;\n",
              "      border-bottom-color: var(--fill-color);\n",
              "      border-left-color: var(--fill-color);\n",
              "    }\n",
              "    20% {\n",
              "      border-color: transparent;\n",
              "      border-left-color: var(--fill-color);\n",
              "      border-top-color: var(--fill-color);\n",
              "    }\n",
              "    30% {\n",
              "      border-color: transparent;\n",
              "      border-left-color: var(--fill-color);\n",
              "      border-top-color: var(--fill-color);\n",
              "      border-right-color: var(--fill-color);\n",
              "    }\n",
              "    40% {\n",
              "      border-color: transparent;\n",
              "      border-right-color: var(--fill-color);\n",
              "      border-top-color: var(--fill-color);\n",
              "    }\n",
              "    60% {\n",
              "      border-color: transparent;\n",
              "      border-right-color: var(--fill-color);\n",
              "    }\n",
              "    80% {\n",
              "      border-color: transparent;\n",
              "      border-right-color: var(--fill-color);\n",
              "      border-bottom-color: var(--fill-color);\n",
              "    }\n",
              "    90% {\n",
              "      border-color: transparent;\n",
              "      border-bottom-color: var(--fill-color);\n",
              "    }\n",
              "  }\n",
              "</style>\n",
              "\n",
              "  <script>\n",
              "    async function quickchart(key) {\n",
              "      const quickchartButtonEl =\n",
              "        document.querySelector('#' + key + ' button');\n",
              "      quickchartButtonEl.disabled = true;  // To prevent multiple clicks.\n",
              "      quickchartButtonEl.classList.add('colab-df-spinner');\n",
              "      try {\n",
              "        const charts = await google.colab.kernel.invokeFunction(\n",
              "            'suggestCharts', [key], {});\n",
              "      } catch (error) {\n",
              "        console.error('Error during call to suggestCharts:', error);\n",
              "      }\n",
              "      quickchartButtonEl.classList.remove('colab-df-spinner');\n",
              "      quickchartButtonEl.classList.add('colab-df-quickchart-complete');\n",
              "    }\n",
              "    (() => {\n",
              "      let quickchartButtonEl =\n",
              "        document.querySelector('#df-d08fcebd-cefb-4378-9143-f0297d6f6538 button');\n",
              "      quickchartButtonEl.style.display =\n",
              "        google.colab.kernel.accessAllowed ? 'block' : 'none';\n",
              "    })();\n",
              "  </script>\n",
              "</div>\n",
              "\n",
              "    </div>\n",
              "  </div>\n"
            ],
            "text/plain": [
              "   13.6  19.599  10.435  2.068   7.936  1.943  2.938  86.582  8.482518927\n",
              "0   9.4  12.531   6.301  3.150  10.003  2.477  2.317  40.537     6.521799\n",
              "1   7.6  11.188   4.934  3.664  11.287  2.653  3.862  32.869     6.171909\n",
              "2   6.1   9.701   4.113  4.465  12.667  2.897  4.569  25.476     5.944111\n",
              "3  11.5  12.275   7.416  1.821   4.170  2.227  3.156  61.943     6.968568\n",
              "4   8.5   7.281   4.460  2.604   5.186  2.721  2.408  31.965     5.666081"
            ]
          },
          "execution_count": 4,
          "metadata": {},
          "output_type": "execute_result"
        }
      ],
      "source": [
        "df.head()"
      ]
    },
    {
      "cell_type": "code",
      "execution_count": null,
      "metadata": {
        "id": "fF8ocPM5oHmv"
      },
      "outputs": [],
      "source": [
        "X = df.iloc[:,:-1]\n",
        "y = df.iloc[:,-1]"
      ]
    },
    {
      "cell_type": "code",
      "execution_count": null,
      "metadata": {
        "colab": {
          "base_uri": "https://localhost:8080/",
          "height": 206
        },
        "id": "Jozh3U-goW--",
        "outputId": "5ed3e765-cdbb-4baa-8328-8cde5b870bb5"
      },
      "outputs": [
        {
          "data": {
            "application/vnd.google.colaboratory.intrinsic+json": {
              "summary": "{\n  \"name\": \"X\",\n  \"rows\": 81,\n  \"fields\": [\n    {\n      \"column\": \"13.6\",\n      \"properties\": {\n        \"dtype\": \"number\",\n        \"std\": 2.6741151761486726,\n        \"min\": 0.2,\n        \"max\": 11.5,\n        \"num_unique_values\": 53,\n        \"samples\": [\n          5.0,\n          6.4,\n          1.4\n        ],\n        \"semantic_type\": \"\",\n        \"description\": \"\"\n      }\n    },\n    {\n      \"column\": \"19.599\",\n      \"properties\": {\n        \"dtype\": \"number\",\n        \"std\": 7.255322273070377,\n        \"min\": 2.914,\n        \"max\": 40.513,\n        \"num_unique_values\": 80,\n        \"samples\": [\n          18.632,\n          12.531,\n          7.844\n        ],\n        \"semantic_type\": \"\",\n        \"description\": \"\"\n      }\n    },\n    {\n      \"column\": \"10.435\",\n      \"properties\": {\n        \"dtype\": \"number\",\n        \"std\": 4.866349878515052,\n        \"min\": 1.415,\n        \"max\": 29.674,\n        \"num_unique_values\": 81,\n        \"samples\": [\n          10.059,\n          6.301,\n          3.769\n        ],\n        \"semantic_type\": \"\",\n        \"description\": \"\"\n      }\n    },\n    {\n      \"column\": \"2.068\",\n      \"properties\": {\n        \"dtype\": \"number\",\n        \"std\": 4.698150580281565,\n        \"min\": 1.821,\n        \"max\": 26.29,\n        \"num_unique_values\": 81,\n        \"samples\": [\n          6.111,\n          3.15,\n          5.253\n        ],\n        \"semantic_type\": \"\",\n        \"description\": \"\"\n      }\n    },\n    {\n      \"column\": \"7.936\",\n      \"properties\": {\n        \"dtype\": \"number\",\n        \"std\": 8.196702536653547,\n        \"min\": 4.17,\n        \"max\": 57.213,\n        \"num_unique_values\": 81,\n        \"samples\": [\n          7.607,\n          10.003,\n          9.901\n        ],\n        \"semantic_type\": \"\",\n        \"description\": \"\"\n      }\n    },\n    {\n      \"column\": \"1.943\",\n      \"properties\": {\n        \"dtype\": \"number\",\n        \"std\": 0.45205527255463407,\n        \"min\": 1.523,\n        \"max\": 3.604,\n        \"num_unique_values\": 79,\n        \"samples\": [\n          2.384,\n          2.477,\n          2.424\n        ],\n        \"semantic_type\": \"\",\n        \"description\": \"\"\n      }\n    },\n    {\n      \"column\": \"2.938\",\n      \"properties\": {\n        \"dtype\": \"number\",\n        \"std\": 1.6869562613706908,\n        \"min\": 2.317,\n        \"max\": 10.251,\n        \"num_unique_values\": 81,\n        \"samples\": [\n          4.509,\n          2.317,\n          7.398\n        ],\n        \"semantic_type\": \"\",\n        \"description\": \"\"\n      }\n    },\n    {\n      \"column\": \"86.582\",\n      \"properties\": {\n        \"dtype\": \"number\",\n        \"std\": 76.69844757209526,\n        \"min\": 18.317,\n        \"max\": 460.524,\n        \"num_unique_values\": 81,\n        \"samples\": [\n          81.905,\n          40.537,\n          90.178\n        ],\n        \"semantic_type\": \"\",\n        \"description\": \"\"\n      }\n    }\n  ]\n}",
              "type": "dataframe",
              "variable_name": "X"
            },
            "text/html": [
              "\n",
              "  <div id=\"df-47937d0d-7487-409f-ba5e-7c4f6a021479\" class=\"colab-df-container\">\n",
              "    <div>\n",
              "<style scoped>\n",
              "    .dataframe tbody tr th:only-of-type {\n",
              "        vertical-align: middle;\n",
              "    }\n",
              "\n",
              "    .dataframe tbody tr th {\n",
              "        vertical-align: top;\n",
              "    }\n",
              "\n",
              "    .dataframe thead th {\n",
              "        text-align: right;\n",
              "    }\n",
              "</style>\n",
              "<table border=\"1\" class=\"dataframe\">\n",
              "  <thead>\n",
              "    <tr style=\"text-align: right;\">\n",
              "      <th></th>\n",
              "      <th>13.6</th>\n",
              "      <th>19.599</th>\n",
              "      <th>10.435</th>\n",
              "      <th>2.068</th>\n",
              "      <th>7.936</th>\n",
              "      <th>1.943</th>\n",
              "      <th>2.938</th>\n",
              "      <th>86.582</th>\n",
              "    </tr>\n",
              "  </thead>\n",
              "  <tbody>\n",
              "    <tr>\n",
              "      <th>0</th>\n",
              "      <td>9.4</td>\n",
              "      <td>12.531</td>\n",
              "      <td>6.301</td>\n",
              "      <td>3.150</td>\n",
              "      <td>10.003</td>\n",
              "      <td>2.477</td>\n",
              "      <td>2.317</td>\n",
              "      <td>40.537</td>\n",
              "    </tr>\n",
              "    <tr>\n",
              "      <th>1</th>\n",
              "      <td>7.6</td>\n",
              "      <td>11.188</td>\n",
              "      <td>4.934</td>\n",
              "      <td>3.664</td>\n",
              "      <td>11.287</td>\n",
              "      <td>2.653</td>\n",
              "      <td>3.862</td>\n",
              "      <td>32.869</td>\n",
              "    </tr>\n",
              "    <tr>\n",
              "      <th>2</th>\n",
              "      <td>6.1</td>\n",
              "      <td>9.701</td>\n",
              "      <td>4.113</td>\n",
              "      <td>4.465</td>\n",
              "      <td>12.667</td>\n",
              "      <td>2.897</td>\n",
              "      <td>4.569</td>\n",
              "      <td>25.476</td>\n",
              "    </tr>\n",
              "    <tr>\n",
              "      <th>3</th>\n",
              "      <td>11.5</td>\n",
              "      <td>12.275</td>\n",
              "      <td>7.416</td>\n",
              "      <td>1.821</td>\n",
              "      <td>4.170</td>\n",
              "      <td>2.227</td>\n",
              "      <td>3.156</td>\n",
              "      <td>61.943</td>\n",
              "    </tr>\n",
              "    <tr>\n",
              "      <th>4</th>\n",
              "      <td>8.5</td>\n",
              "      <td>7.281</td>\n",
              "      <td>4.460</td>\n",
              "      <td>2.604</td>\n",
              "      <td>5.186</td>\n",
              "      <td>2.721</td>\n",
              "      <td>2.408</td>\n",
              "      <td>31.965</td>\n",
              "    </tr>\n",
              "  </tbody>\n",
              "</table>\n",
              "</div>\n",
              "    <div class=\"colab-df-buttons\">\n",
              "\n",
              "  <div class=\"colab-df-container\">\n",
              "    <button class=\"colab-df-convert\" onclick=\"convertToInteractive('df-47937d0d-7487-409f-ba5e-7c4f6a021479')\"\n",
              "            title=\"Convert this dataframe to an interactive table.\"\n",
              "            style=\"display:none;\">\n",
              "\n",
              "  <svg xmlns=\"http://www.w3.org/2000/svg\" height=\"24px\" viewBox=\"0 -960 960 960\">\n",
              "    <path d=\"M120-120v-720h720v720H120Zm60-500h600v-160H180v160Zm220 220h160v-160H400v160Zm0 220h160v-160H400v160ZM180-400h160v-160H180v160Zm440 0h160v-160H620v160ZM180-180h160v-160H180v160Zm440 0h160v-160H620v160Z\"/>\n",
              "  </svg>\n",
              "    </button>\n",
              "\n",
              "  <style>\n",
              "    .colab-df-container {\n",
              "      display:flex;\n",
              "      gap: 12px;\n",
              "    }\n",
              "\n",
              "    .colab-df-convert {\n",
              "      background-color: #E8F0FE;\n",
              "      border: none;\n",
              "      border-radius: 50%;\n",
              "      cursor: pointer;\n",
              "      display: none;\n",
              "      fill: #1967D2;\n",
              "      height: 32px;\n",
              "      padding: 0 0 0 0;\n",
              "      width: 32px;\n",
              "    }\n",
              "\n",
              "    .colab-df-convert:hover {\n",
              "      background-color: #E2EBFA;\n",
              "      box-shadow: 0px 1px 2px rgba(60, 64, 67, 0.3), 0px 1px 3px 1px rgba(60, 64, 67, 0.15);\n",
              "      fill: #174EA6;\n",
              "    }\n",
              "\n",
              "    .colab-df-buttons div {\n",
              "      margin-bottom: 4px;\n",
              "    }\n",
              "\n",
              "    [theme=dark] .colab-df-convert {\n",
              "      background-color: #3B4455;\n",
              "      fill: #D2E3FC;\n",
              "    }\n",
              "\n",
              "    [theme=dark] .colab-df-convert:hover {\n",
              "      background-color: #434B5C;\n",
              "      box-shadow: 0px 1px 3px 1px rgba(0, 0, 0, 0.15);\n",
              "      filter: drop-shadow(0px 1px 2px rgba(0, 0, 0, 0.3));\n",
              "      fill: #FFFFFF;\n",
              "    }\n",
              "  </style>\n",
              "\n",
              "    <script>\n",
              "      const buttonEl =\n",
              "        document.querySelector('#df-47937d0d-7487-409f-ba5e-7c4f6a021479 button.colab-df-convert');\n",
              "      buttonEl.style.display =\n",
              "        google.colab.kernel.accessAllowed ? 'block' : 'none';\n",
              "\n",
              "      async function convertToInteractive(key) {\n",
              "        const element = document.querySelector('#df-47937d0d-7487-409f-ba5e-7c4f6a021479');\n",
              "        const dataTable =\n",
              "          await google.colab.kernel.invokeFunction('convertToInteractive',\n",
              "                                                    [key], {});\n",
              "        if (!dataTable) return;\n",
              "\n",
              "        const docLinkHtml = 'Like what you see? Visit the ' +\n",
              "          '<a target=\"_blank\" href=https://colab.research.google.com/notebooks/data_table.ipynb>data table notebook</a>'\n",
              "          + ' to learn more about interactive tables.';\n",
              "        element.innerHTML = '';\n",
              "        dataTable['output_type'] = 'display_data';\n",
              "        await google.colab.output.renderOutput(dataTable, element);\n",
              "        const docLink = document.createElement('div');\n",
              "        docLink.innerHTML = docLinkHtml;\n",
              "        element.appendChild(docLink);\n",
              "      }\n",
              "    </script>\n",
              "  </div>\n",
              "\n",
              "\n",
              "<div id=\"df-7f543f4a-0420-42ca-8c09-e8b655968228\">\n",
              "  <button class=\"colab-df-quickchart\" onclick=\"quickchart('df-7f543f4a-0420-42ca-8c09-e8b655968228')\"\n",
              "            title=\"Suggest charts\"\n",
              "            style=\"display:none;\">\n",
              "\n",
              "<svg xmlns=\"http://www.w3.org/2000/svg\" height=\"24px\"viewBox=\"0 0 24 24\"\n",
              "     width=\"24px\">\n",
              "    <g>\n",
              "        <path d=\"M19 3H5c-1.1 0-2 .9-2 2v14c0 1.1.9 2 2 2h14c1.1 0 2-.9 2-2V5c0-1.1-.9-2-2-2zM9 17H7v-7h2v7zm4 0h-2V7h2v10zm4 0h-2v-4h2v4z\"/>\n",
              "    </g>\n",
              "</svg>\n",
              "  </button>\n",
              "\n",
              "<style>\n",
              "  .colab-df-quickchart {\n",
              "      --bg-color: #E8F0FE;\n",
              "      --fill-color: #1967D2;\n",
              "      --hover-bg-color: #E2EBFA;\n",
              "      --hover-fill-color: #174EA6;\n",
              "      --disabled-fill-color: #AAA;\n",
              "      --disabled-bg-color: #DDD;\n",
              "  }\n",
              "\n",
              "  [theme=dark] .colab-df-quickchart {\n",
              "      --bg-color: #3B4455;\n",
              "      --fill-color: #D2E3FC;\n",
              "      --hover-bg-color: #434B5C;\n",
              "      --hover-fill-color: #FFFFFF;\n",
              "      --disabled-bg-color: #3B4455;\n",
              "      --disabled-fill-color: #666;\n",
              "  }\n",
              "\n",
              "  .colab-df-quickchart {\n",
              "    background-color: var(--bg-color);\n",
              "    border: none;\n",
              "    border-radius: 50%;\n",
              "    cursor: pointer;\n",
              "    display: none;\n",
              "    fill: var(--fill-color);\n",
              "    height: 32px;\n",
              "    padding: 0;\n",
              "    width: 32px;\n",
              "  }\n",
              "\n",
              "  .colab-df-quickchart:hover {\n",
              "    background-color: var(--hover-bg-color);\n",
              "    box-shadow: 0 1px 2px rgba(60, 64, 67, 0.3), 0 1px 3px 1px rgba(60, 64, 67, 0.15);\n",
              "    fill: var(--button-hover-fill-color);\n",
              "  }\n",
              "\n",
              "  .colab-df-quickchart-complete:disabled,\n",
              "  .colab-df-quickchart-complete:disabled:hover {\n",
              "    background-color: var(--disabled-bg-color);\n",
              "    fill: var(--disabled-fill-color);\n",
              "    box-shadow: none;\n",
              "  }\n",
              "\n",
              "  .colab-df-spinner {\n",
              "    border: 2px solid var(--fill-color);\n",
              "    border-color: transparent;\n",
              "    border-bottom-color: var(--fill-color);\n",
              "    animation:\n",
              "      spin 1s steps(1) infinite;\n",
              "  }\n",
              "\n",
              "  @keyframes spin {\n",
              "    0% {\n",
              "      border-color: transparent;\n",
              "      border-bottom-color: var(--fill-color);\n",
              "      border-left-color: var(--fill-color);\n",
              "    }\n",
              "    20% {\n",
              "      border-color: transparent;\n",
              "      border-left-color: var(--fill-color);\n",
              "      border-top-color: var(--fill-color);\n",
              "    }\n",
              "    30% {\n",
              "      border-color: transparent;\n",
              "      border-left-color: var(--fill-color);\n",
              "      border-top-color: var(--fill-color);\n",
              "      border-right-color: var(--fill-color);\n",
              "    }\n",
              "    40% {\n",
              "      border-color: transparent;\n",
              "      border-right-color: var(--fill-color);\n",
              "      border-top-color: var(--fill-color);\n",
              "    }\n",
              "    60% {\n",
              "      border-color: transparent;\n",
              "      border-right-color: var(--fill-color);\n",
              "    }\n",
              "    80% {\n",
              "      border-color: transparent;\n",
              "      border-right-color: var(--fill-color);\n",
              "      border-bottom-color: var(--fill-color);\n",
              "    }\n",
              "    90% {\n",
              "      border-color: transparent;\n",
              "      border-bottom-color: var(--fill-color);\n",
              "    }\n",
              "  }\n",
              "</style>\n",
              "\n",
              "  <script>\n",
              "    async function quickchart(key) {\n",
              "      const quickchartButtonEl =\n",
              "        document.querySelector('#' + key + ' button');\n",
              "      quickchartButtonEl.disabled = true;  // To prevent multiple clicks.\n",
              "      quickchartButtonEl.classList.add('colab-df-spinner');\n",
              "      try {\n",
              "        const charts = await google.colab.kernel.invokeFunction(\n",
              "            'suggestCharts', [key], {});\n",
              "      } catch (error) {\n",
              "        console.error('Error during call to suggestCharts:', error);\n",
              "      }\n",
              "      quickchartButtonEl.classList.remove('colab-df-spinner');\n",
              "      quickchartButtonEl.classList.add('colab-df-quickchart-complete');\n",
              "    }\n",
              "    (() => {\n",
              "      let quickchartButtonEl =\n",
              "        document.querySelector('#df-7f543f4a-0420-42ca-8c09-e8b655968228 button');\n",
              "      quickchartButtonEl.style.display =\n",
              "        google.colab.kernel.accessAllowed ? 'block' : 'none';\n",
              "    })();\n",
              "  </script>\n",
              "</div>\n",
              "\n",
              "    </div>\n",
              "  </div>\n"
            ],
            "text/plain": [
              "   13.6  19.599  10.435  2.068   7.936  1.943  2.938  86.582\n",
              "0   9.4  12.531   6.301  3.150  10.003  2.477  2.317  40.537\n",
              "1   7.6  11.188   4.934  3.664  11.287  2.653  3.862  32.869\n",
              "2   6.1   9.701   4.113  4.465  12.667  2.897  4.569  25.476\n",
              "3  11.5  12.275   7.416  1.821   4.170  2.227  3.156  61.943\n",
              "4   8.5   7.281   4.460  2.604   5.186  2.721  2.408  31.965"
            ]
          },
          "execution_count": 6,
          "metadata": {},
          "output_type": "execute_result"
        }
      ],
      "source": [
        "X.head()"
      ]
    },
    {
      "cell_type": "code",
      "execution_count": null,
      "metadata": {
        "colab": {
          "base_uri": "https://localhost:8080/",
          "height": 241
        },
        "id": "IKgQCcbvoY_B",
        "outputId": "1a733585-ddba-41b3-9431-1ff28b0d3e48"
      },
      "outputs": [
        {
          "data": {
            "text/html": [
              "<div>\n",
              "<style scoped>\n",
              "    .dataframe tbody tr th:only-of-type {\n",
              "        vertical-align: middle;\n",
              "    }\n",
              "\n",
              "    .dataframe tbody tr th {\n",
              "        vertical-align: top;\n",
              "    }\n",
              "\n",
              "    .dataframe thead th {\n",
              "        text-align: right;\n",
              "    }\n",
              "</style>\n",
              "<table border=\"1\" class=\"dataframe\">\n",
              "  <thead>\n",
              "    <tr style=\"text-align: right;\">\n",
              "      <th></th>\n",
              "      <th>8.482518927</th>\n",
              "    </tr>\n",
              "  </thead>\n",
              "  <tbody>\n",
              "    <tr>\n",
              "      <th>0</th>\n",
              "      <td>6.521799</td>\n",
              "    </tr>\n",
              "    <tr>\n",
              "      <th>1</th>\n",
              "      <td>6.171909</td>\n",
              "    </tr>\n",
              "    <tr>\n",
              "      <th>2</th>\n",
              "      <td>5.944111</td>\n",
              "    </tr>\n",
              "    <tr>\n",
              "      <th>3</th>\n",
              "      <td>6.968568</td>\n",
              "    </tr>\n",
              "    <tr>\n",
              "      <th>4</th>\n",
              "      <td>5.666081</td>\n",
              "    </tr>\n",
              "  </tbody>\n",
              "</table>\n",
              "</div><br><label><b>dtype:</b> float64</label>"
            ],
            "text/plain": [
              "0    6.521799\n",
              "1    6.171909\n",
              "2    5.944111\n",
              "3    6.968568\n",
              "4    5.666081\n",
              "Name: 8.482518927, dtype: float64"
            ]
          },
          "execution_count": 7,
          "metadata": {},
          "output_type": "execute_result"
        }
      ],
      "source": [
        "y.head()"
      ]
    },
    {
      "cell_type": "code",
      "execution_count": null,
      "metadata": {
        "id": "mVsbHuQbobKI"
      },
      "outputs": [],
      "source": [
        "X = np.asarray(X)\n",
        "y = np.asarray(y)"
      ]
    },
    {
      "cell_type": "code",
      "execution_count": null,
      "metadata": {
        "id": "0Sx_HOavopDx"
      },
      "outputs": [],
      "source": [
        "split_percent = 0.7\n",
        "split_index = int(len(X)*split_percent)"
      ]
    },
    {
      "cell_type": "code",
      "execution_count": null,
      "metadata": {
        "id": "FhYUqEnxo8dH"
      },
      "outputs": [],
      "source": [
        "num_samples = X.shape[0]\n",
        "\n",
        "X_min = np.min(X,axis=0)\n",
        "X_max = np.max(X,axis=0)\n",
        "\n",
        "y_min = np.min(y,axis=0)\n",
        "y_max = np.max(y,axis=0)\n",
        "\n",
        "X_scaled = (X-X_min)/(X_max-X_min)\n",
        "y_scaled = (y-y_min)/(y_max-y_min)"
      ]
    },
    {
      "cell_type": "code",
      "execution_count": null,
      "metadata": {
        "id": "2FED2Lg6pDrA"
      },
      "outputs": [],
      "source": [
        "X_train = X_scaled[:split_index]\n",
        "y_train = y_scaled[:split_index]\n",
        "\n",
        "X_test = X_scaled[split_index:]\n",
        "y_test = y_scaled[split_index:]"
      ]
    },
    {
      "cell_type": "code",
      "execution_count": null,
      "metadata": {
        "colab": {
          "base_uri": "https://localhost:8080/"
        },
        "id": "u0s2Eh4Qqup2",
        "outputId": "d0ec6b22-521b-4975-8702-6bcf98bb8c53"
      },
      "outputs": [
        {
          "name": "stdout",
          "output_type": "stream",
          "text": [
            "X_train_shape = (56, 8)\n",
            "y_train_shape = (56,)\n",
            "X_test_shape = (25, 8)\n",
            "y_test_shape = (25,)\n"
          ]
        }
      ],
      "source": [
        "print(f'X_train_shape = {X_train.shape}')\n",
        "print(f'y_train_shape = {y_train.shape}')\n",
        "print(f'X_test_shape = {X_test.shape}')\n",
        "print(f'y_test_shape = {y_test.shape}')"
      ]
    },
    {
      "cell_type": "markdown",
      "metadata": {
        "id": "0thZS8FgrDZF"
      },
      "source": [
        "# Errors"
      ]
    },
    {
      "cell_type": "code",
      "execution_count": null,
      "metadata": {
        "id": "MmoXWZqMrBEc"
      },
      "outputs": [],
      "source": [
        "#------------------------------------------------------------------------------------------------------------------------------\n",
        "# Cost Function\n",
        "#------------------------------------------------------------------------------------------------------------------------------\n",
        "def l2_regularized_cost_function(features, target, weights, reg_param):\n",
        "    predictions = features @ weights\n",
        "    mse_term = np.sum((predictions - target)**2) / (2 * len(target))\n",
        "    reg_term = reg_param * np.sum(weights**2) / (2 * len(target))\n",
        "    return mse_term + reg_term\n",
        "#------------------------------------------------------------------------------------------------------------------------------\n",
        "# Batch Gradient Descent\n",
        "#------------------------------------------------------------------------------------------------------------------------------\n",
        "def batch_gradient_descent_l2(X, y, theta, lr, iterations, lambda_val):\n",
        "    cost_records = np.empty(iterations)\n",
        "    m = len(y)\n",
        "    for epoch in range(iterations):\n",
        "        y_hat = X @ theta\n",
        "        theta = theta * (1 - (lr*lambda_val)/m) - (lr/m) * (X.T @ (y_hat - y))\n",
        "        cost_records[epoch] = l2_regularized_cost_function(X, y, theta, lambda_val)\n",
        "    return theta, cost_records\n",
        "#------------------------------------------------------------------------------------------------------------------------------\n",
        "# Stochastic Gradient Descent\n",
        "#------------------------------------------------------------------------------------------------------------------------------\n",
        "def stochastic_gradient_descent_l2(X, y, weights, learn_rate, epochs, lambda_):\n",
        "    cost_history = np.zeros(epochs)\n",
        "    for i in range(iters):\n",
        "      rand_index = np.random.randint(len(y)-1)\n",
        "      ind_x = X[rand_index:rand_index+1]\n",
        "      ind_y = y[rand_index:rand_index+1]\n",
        "      weights = weights*(1-alpha*lamb) - alpha * np.dot((np.dot(ind_x,weights.T) - ind_y), ind_x)\n",
        "      cost_history[iter] = l2_regularized_cost_function(X_sample, y_sample, weights, lambda_)\n",
        "    return weights, cost_history\n",
        "#------------------------------------------------------------------------------------------------------------------------------\n",
        "# MB Gradient Descent\n",
        "#------------------------------------------------------------------------------------------------------------------------------\n",
        "def mini_batch_gradient_descent_l2(X, y, params, alpha, cycles, batch, reg):\n",
        "    cost_history = np.empty(cycles)\n",
        "    for cycle in range(cycles):\n",
        "        start_idx = np.random.randint(len(y)-batch)\n",
        "        X_batch = X[start_idx:start_idx+batch]\n",
        "        y_batch = y[start_idx:start_idx+batch]\n",
        "        grad = X_batch.T @ (X_batch @ params - y_batch) / batch\n",
        "        params = params*(1 - (alpha*reg)/batch) - alpha*grad\n",
        "        cost_history[cycle] = l2_regularized_cost_function(X_batch, y_batch, params, reg)\n",
        "    return params, cost_history\n",
        "#------------------------------------------------------------------------------------------------------------------------------\n",
        "# Mean Absolute Error\n",
        "#------------------------------------------------------------------------------------------------------------------------------\n",
        "def mae(Ypred, Yact):\n",
        "  sum_error=abs(Yact - Ypred)\n",
        "  ma=sum(sum_error)/Ypred.shape[0]\n",
        "  return ma\n",
        "#------------------------------------------------------------------------------------------------------------------------------\n",
        "# Mean Square Error\n",
        "#------------------------------------------------------------------------------------------------------------------------------\n",
        "def mse(Ypred, Yact):\n",
        "  for i in range(Ypred.shape[0]):\n",
        "    sum_error=(Yact - Ypred)**2\n",
        "  ms=sum(sum_error)/Ypred.shape[0]\n",
        "  return ms\n",
        "#------------------------------------------------------------------------------------------------------------------------------\n",
        "# R Squared\n",
        "#------------------------------------------------------------------------------------------------------------------------------\n",
        "def r_squared(true_values, estimates):\n",
        "    total_variation = np.sum((true_values - np.mean(true_values))**2)\n",
        "    unexplained_variation = np.sum((true_values - estimates)**2)\n",
        "    return 1 - (unexplained_variation / total_variation)\n",
        "#------------------------------------------------------------------------------------------------------------------------------\n",
        "# Correlation Coefficient\n",
        "#------------------------------------------------------------------------------------------------------------------------------\n",
        "def correcoff(predicted, actual):\n",
        "    mean_pred = np.mean(predicted)\n",
        "    mean_actual = np.mean(actual)\n",
        "    numerator = np.sum((actual - mean_actual) * (predicted - mean_pred))\n",
        "    denominator = np.sqrt(np.sum((actual - mean_actual)**2)) * np.sqrt(np.sum((predicted - mean_pred)**2))\n",
        "    return numerator / denominator"
      ]
    },
    {
      "cell_type": "markdown",
      "metadata": {
        "id": "D9KkJO0WmqXI"
      },
      "source": [
        "# Error Function and Graph"
      ]
    },
    {
      "cell_type": "code",
      "execution_count": null,
      "metadata": {
        "id": "WrX8ACBtmQ7-"
      },
      "outputs": [],
      "source": [
        "def cal(X_test,y_test,weight):\n",
        "  print(\"WEIGHT VECTOR\",weight)\n",
        "  y_pred=X_test.dot(weight.T)\n",
        "\n",
        "  Xmin = np.min(X_test,axis=0)\n",
        "  Xmax = np.max(X_test,axis=0)\n",
        "\n",
        "  ymin = np.min(y_test,axis=0)\n",
        "  ymax = np.max(y_test,axis=0)\n",
        "\n",
        "  y_pred_unscaled=(y_pred*(ymax-ymin))+ymin\n",
        "  y_test_unscaled=(y_test*(ymax-ymin))+ymin\n",
        "\n",
        "  print(\"MEAN ABSOLUTE ERROR\",mae(y_test_unscaled,y_pred))\n",
        "  print(\"MEAN SQUARE ERROR\",mse(y_test_unscaled,y_pred))\n",
        "  print(\"R SQUARED\",r_squared(y_test_unscaled,y_pred))\n",
        "  print(\"CORRELATION COEFFICIENT\",correcoff(y_pred,y_test_unscaled))\n",
        "\n",
        "  plt.figure(figsize=(8, 6))\n",
        "  plt.plot(y_test_unscaled, label='Actual Output', color='blue', marker='o')\n",
        "  plt.plot(y_pred_unscaled, label='Predicted Output', color='red', marker='x')\n",
        "  plt.xlabel('Sample Index')\n",
        "  plt.ylabel('Output Value')\n",
        "  plt.title('Predicted vs Actual Output (Line Plot)')\n",
        "  plt.legend()\n",
        "  plt.show()"
      ]
    },
    {
      "cell_type": "code",
      "execution_count": null,
      "metadata": {
        "colab": {
          "base_uri": "https://localhost:8080/"
        },
        "id": "CWV8H343qn2Y",
        "outputId": "dc065df3-592d-4452-e981-e498a99873f2"
      },
      "outputs": [
        {
          "data": {
            "text/plain": [
              "(9,)"
            ]
          },
          "execution_count": 21,
          "metadata": {},
          "output_type": "execute_result"
        }
      ],
      "source": [
        "w= np.zeros((X_scaled.shape[1]))\n",
        "w.shape\n",
        "(9,)"
      ]
    },
    {
      "cell_type": "markdown",
      "metadata": {
        "id": "BUD_70Fbrr8J"
      },
      "source": [
        "# Batch Gradient Descent"
      ]
    },
    {
      "cell_type": "code",
      "execution_count": null,
      "metadata": {
        "colab": {
          "base_uri": "https://localhost:8080/",
          "height": 1000
        },
        "id": "pUdwcYNrpZl3",
        "outputId": "5d9eadb7-5d41-472e-9f99-2f51df295b72"
      },
      "outputs": [
        {
          "data": {
            "image/png": "[encoded data removed]",
            "text/plain": [
              "<Figure size 640x480 with 1 Axes>"
            ]
          },
          "metadata": {},
          "output_type": "display_data"
        },
        {
          "name": "stdout",
          "output_type": "stream",
          "text": [
            "WEIGHT VECTOR [ 0.52926423  0.75978958  0.05203503  0.04854756  0.05578693  0.13049652\n",
            "  0.18870139 -0.00091818]\n",
            "MEAN ABSOLUTE ERROR 0.10628919445818169\n",
            "MEAN SQUARE ERROR 0.021000434502594124\n",
            "R SQUARED 0.5857172703367197\n",
            "CORRELATION COEFFICIENT 0.8039738089004891\n"
          ]
        },
        {
          "data": {
            "image/png": "[encoded data removed]",
            "text/plain": [
              "<Figure size 800x600 with 1 Axes>"
            ]
          },
          "metadata": {},
          "output_type": "display_data"
        }
      ],
      "source": [
        "alpha = 0.4\n",
        "iters = 1500\n",
        "lamb = 0.001\n",
        "batch_weight,batch_J_history = batch_gradient_descent_l2(X_train,y_train,w,alpha,iters, lamb)\n",
        "plt.plot(range(iters),batch_J_history)\n",
        "plt.show()\n",
        "cal(X_test,y_test,batch_weight)"
      ]
    },
    {
      "cell_type": "markdown",
      "metadata": {
        "id": "Jm4fQC-hrwhh"
      },
      "source": [
        "# Stochastic Gradient Descent"
      ]
    },
    {
      "cell_type": "code",
      "execution_count": null,
      "metadata": {
        "colab": {
          "background_save": true,
          "base_uri": "https://localhost:8080/",
          "height": 332
        },
        "id": "T4q_4R-FqADJ",
        "outputId": "55d9d375-0e0e-4c88-e5a5-eb849b805446"
      },
      "outputs": [
        {
          "ename": "NameError",
          "evalue": "name 'X_sample' is not defined",
          "output_type": "error",
          "traceback": [
            "\u001b[0;31m---------------------------------------------------------------------------\u001b[0m",
            "\u001b[0;31mNameError\u001b[0m                                 Traceback (most recent call last)",
            "\u001b[0;32m<ipython-input-29-99494d91a2c3>\u001b[0m in \u001b[0;36m<cell line: 0>\u001b[0;34m()\u001b[0m\n\u001b[1;32m      2\u001b[0m \u001b[0miters\u001b[0m\u001b[0;34m=\u001b[0m\u001b[0;36m5000\u001b[0m\u001b[0;34m\u001b[0m\u001b[0;34m\u001b[0m\u001b[0m\n\u001b[1;32m      3\u001b[0m \u001b[0mlamb\u001b[0m\u001b[0;34m=\u001b[0m\u001b[0;36m0.002\u001b[0m\u001b[0;34m\u001b[0m\u001b[0;34m\u001b[0m\u001b[0m\n\u001b[0;32m----> 4\u001b[0;31m \u001b[0msto_weight\u001b[0m\u001b[0;34m,\u001b[0m\u001b[0msto_J_hist\u001b[0m \u001b[0;34m=\u001b[0m \u001b[0mstochastic_gradient_descent_l2\u001b[0m\u001b[0;34m(\u001b[0m\u001b[0mX_train\u001b[0m\u001b[0;34m,\u001b[0m\u001b[0my_train\u001b[0m\u001b[0;34m,\u001b[0m\u001b[0mw\u001b[0m\u001b[0;34m,\u001b[0m\u001b[0malpha\u001b[0m\u001b[0;34m,\u001b[0m \u001b[0miters\u001b[0m\u001b[0;34m,\u001b[0m\u001b[0mlamb\u001b[0m\u001b[0;34m)\u001b[0m\u001b[0;34m\u001b[0m\u001b[0;34m\u001b[0m\u001b[0m\n\u001b[0m\u001b[1;32m      5\u001b[0m \u001b[0mplt\u001b[0m\u001b[0;34m.\u001b[0m\u001b[0mplot\u001b[0m\u001b[0;34m(\u001b[0m\u001b[0mrange\u001b[0m\u001b[0;34m(\u001b[0m\u001b[0miters\u001b[0m\u001b[0;34m)\u001b[0m\u001b[0;34m,\u001b[0m\u001b[0msto_J_hist\u001b[0m\u001b[0;34m)\u001b[0m\u001b[0;34m\u001b[0m\u001b[0;34m\u001b[0m\u001b[0m\n\u001b[1;32m      6\u001b[0m \u001b[0mplt\u001b[0m\u001b[0;34m.\u001b[0m\u001b[0mshow\u001b[0m\u001b[0;34m(\u001b[0m\u001b[0;34m)\u001b[0m\u001b[0;34m\u001b[0m\u001b[0;34m\u001b[0m\u001b[0m\n",
            "\u001b[0;32m<ipython-input-28-c00cd7b6f0e7>\u001b[0m in \u001b[0;36mstochastic_gradient_descent_l2\u001b[0;34m(X, y, weights, learn_rate, epochs, lambda_)\u001b[0m\n\u001b[1;32m     28\u001b[0m       \u001b[0mind_y\u001b[0m \u001b[0;34m=\u001b[0m \u001b[0my\u001b[0m\u001b[0;34m[\u001b[0m\u001b[0mrand_index\u001b[0m\u001b[0;34m:\u001b[0m\u001b[0mrand_index\u001b[0m\u001b[0;34m+\u001b[0m\u001b[0;36m1\u001b[0m\u001b[0;34m]\u001b[0m\u001b[0;34m\u001b[0m\u001b[0;34m\u001b[0m\u001b[0m\n\u001b[1;32m     29\u001b[0m       \u001b[0mweights\u001b[0m \u001b[0;34m=\u001b[0m \u001b[0mweights\u001b[0m\u001b[0;34m*\u001b[0m\u001b[0;34m(\u001b[0m\u001b[0;36m1\u001b[0m\u001b[0;34m-\u001b[0m\u001b[0malpha\u001b[0m\u001b[0;34m*\u001b[0m\u001b[0mlamb\u001b[0m\u001b[0;34m)\u001b[0m \u001b[0;34m-\u001b[0m \u001b[0malpha\u001b[0m \u001b[0;34m*\u001b[0m \u001b[0mnp\u001b[0m\u001b[0;34m.\u001b[0m\u001b[0mdot\u001b[0m\u001b[0;34m(\u001b[0m\u001b[0;34m(\u001b[0m\u001b[0mnp\u001b[0m\u001b[0;34m.\u001b[0m\u001b[0mdot\u001b[0m\u001b[0;34m(\u001b[0m\u001b[0mind_x\u001b[0m\u001b[0;34m,\u001b[0m\u001b[0mweights\u001b[0m\u001b[0;34m.\u001b[0m\u001b[0mT\u001b[0m\u001b[0;34m)\u001b[0m \u001b[0;34m-\u001b[0m \u001b[0mind_y\u001b[0m\u001b[0;34m)\u001b[0m\u001b[0;34m,\u001b[0m \u001b[0mind_x\u001b[0m\u001b[0;34m)\u001b[0m\u001b[0;34m\u001b[0m\u001b[0;34m\u001b[0m\u001b[0m\n\u001b[0;32m---> 30\u001b[0;31m       \u001b[0mcost_history\u001b[0m\u001b[0;34m[\u001b[0m\u001b[0miter\u001b[0m\u001b[0;34m]\u001b[0m \u001b[0;34m=\u001b[0m \u001b[0ml2_regularized_cost_function\u001b[0m\u001b[0;34m(\u001b[0m\u001b[0mX_sample\u001b[0m\u001b[0;34m,\u001b[0m \u001b[0my_sample\u001b[0m\u001b[0;34m,\u001b[0m \u001b[0mweights\u001b[0m\u001b[0;34m,\u001b[0m \u001b[0mlambda_\u001b[0m\u001b[0;34m)\u001b[0m\u001b[0;34m\u001b[0m\u001b[0;34m\u001b[0m\u001b[0m\n\u001b[0m\u001b[1;32m     31\u001b[0m     \u001b[0;32mreturn\u001b[0m \u001b[0mweights\u001b[0m\u001b[0;34m,\u001b[0m \u001b[0mcost_history\u001b[0m\u001b[0;34m\u001b[0m\u001b[0;34m\u001b[0m\u001b[0m\n\u001b[1;32m     32\u001b[0m \u001b[0;31m#------------------------------------------------------------------------------------------------------------------------------\u001b[0m\u001b[0;34m\u001b[0m\u001b[0;34m\u001b[0m\u001b[0m\n",
            "\u001b[0;31mNameError\u001b[0m: name 'X_sample' is not defined"
          ]
        }
      ],
      "source": [
        "alpha=0.4\n",
        "iters=5000\n",
        "lamb=0.002\n",
        "sto_weight,sto_J_hist = stochastic_gradient_descent_l2(X_train,y_train,w,alpha, iters,lamb)\n",
        "plt.plot(range(iters),sto_J_hist)\n",
        "plt.show()\n",
        "cal(X_test,y_test,sto_weight)"
      ]
    },
    {
      "cell_type": "code",
      "execution_count": null,
      "metadata": {
        "colab": {
          "base_uri": "https://localhost:8080/",
          "height": 1000
        },
        "id": "UW9mb5f8vQHv",
        "outputId": "6127b338-ce79-433f-a134-9ec5a5a0d4fa"
      },
      "outputs": [
        {
          "data": {
            "image/png": "[encoded data removed]",
            "text/plain": [
              "<Figure size 640x480 with 1 Axes>"
            ]
          },
          "metadata": {},
          "output_type": "display_data"
        },
        {
          "name": "stdout",
          "output_type": "stream",
          "text": [
            "WEIGHT VECTOR [0.46091724 0.53924839 0.33229605 0.12426757 0.04272486 0.17076371\n",
            " 0.1592951  0.15788913]\n",
            "MEAN ABSOLUTE ERROR 0.12955851540159943\n",
            "MEAN SQUARE ERROR 0.032741441703670195\n",
            "R SQUARED 0.35409841922879715\n",
            "CORRELATION COEFFICIENT 0.7787400853461596\n"
          ]
        },
        {
          "data": {
            "image/png": "[encoded data removed]",
            "text/plain": [
              "<Figure size 800x600 with 1 Axes>"
            ]
          },
          "metadata": {},
          "output_type": "display_data"
        }
      ],
      "source": [
        "alpha=0.2\n",
        "iters=1000\n",
        "lamb=0.001\n",
        "batch_size=14\n",
        "mb_w_l1,J_mb_l1 = mini_batch_gradient_descent_l2(X_train,y_train,w,alpha,iters, batch_size,lamb)\n",
        "plt.plot(range(iters),J_mb_l1)\n",
        "plt.show()\n",
        "cal(X_test,y_test,mb_w_l1)"
      ]
    },
    {
      "cell_type": "code",
      "execution_count": null,
      "metadata": {
        "id": "Nch_Vql70a_z"
      },
      "outputs": [],
      "source": []
    }
  ],
  "metadata": {
    "colab": {
      "provenance": []
    },
    "kernelspec": {
      "display_name": "Python 3",
      "name": "python3"
    },
    "language_info": {
      "name": "python"
    }
  },
  "nbformat": 4,
  "nbformat_minor": 0
}